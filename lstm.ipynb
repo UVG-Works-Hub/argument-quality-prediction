{
 "cells": [
  {
   "cell_type": "markdown",
   "metadata": {},
   "source": [
    "# Argument Quality Prediction\n",
    "\n",
    "El objetivo de este proyecto se basa en crear modelos de machine para clasificar los elementos argumentativos en los textos escritos por estudiantes como \"efectivos\", \"adecuados\" o \"ineficaces\". Esta clasificación automatizada tiene como objetivo proporcionar una mejor retroalimentación a los estudiantes, para así ellos puedan mejorar sus habilidades de escritura.\n"
   ]
  },
  {
   "cell_type": "code",
   "execution_count": 4,
   "metadata": {},
   "outputs": [
    {
     "name": "stderr",
     "output_type": "stream",
     "text": [
      "[nltk_data] Downloading package punkt to\n",
      "[nltk_data]     C:\\Users\\chama\\AppData\\Roaming\\nltk_data...\n",
      "[nltk_data]   Package punkt is already up-to-date!\n",
      "[nltk_data] Downloading package stopwords to\n",
      "[nltk_data]     C:\\Users\\chama\\AppData\\Roaming\\nltk_data...\n",
      "[nltk_data]   Package stopwords is already up-to-date!\n"
     ]
    },
    {
     "name": "stdout",
     "output_type": "stream",
     "text": [
      "First 5 rows of the dataset:\n",
      "   discourse_id      essay_id  \\\n",
      "0  0013cc385424  007ACE74B050   \n",
      "1  9704a709b505  007ACE74B050   \n",
      "2  c22adee811b6  007ACE74B050   \n",
      "3  a10d361e54e4  007ACE74B050   \n",
      "4  db3e453ec4e2  007ACE74B050   \n",
      "\n",
      "                                      discourse_text discourse_type  \\\n",
      "0  Hi, i'm Isaac, i'm going to be writing about h...           Lead   \n",
      "1  On my perspective, I think that the face is a ...       Position   \n",
      "2  I think that the face is a natural landform be...          Claim   \n",
      "3  If life was on Mars, we would know by now. The...       Evidence   \n",
      "4  People thought that the face was formed by ali...   Counterclaim   \n",
      "\n",
      "  discourse_effectiveness  text_length  \\\n",
      "0                Adequate          317   \n",
      "1                Adequate          210   \n",
      "2                Adequate          105   \n",
      "3                Adequate          362   \n",
      "4                Adequate          101   \n",
      "\n",
      "                                                text  \n",
      "0  hi im isaac im going writing face mars natural...  \n",
      "1  perspective think face natural landform dont t...  \n",
      "2  think face natural landform life mars descover...  \n",
      "3  life mars would know reason think natural land...  \n",
      "4  people thought face formed alieans thought lif...  \n",
      "\n",
      "Null values before dropping:\n",
      "discourse_id               0\n",
      "essay_id                   0\n",
      "discourse_text             0\n",
      "discourse_type             0\n",
      "discourse_effectiveness    0\n",
      "text_length                0\n",
      "text                       8\n",
      "dtype: int64\n",
      "\n",
      "Null values after dropping:\n",
      "discourse_id               0\n",
      "essay_id                   0\n",
      "discourse_text             0\n",
      "discourse_type             0\n",
      "discourse_effectiveness    0\n",
      "text_length                0\n",
      "text                       0\n",
      "dtype: int64\n",
      "\n",
      "Tokenized text samples:\n",
      "                                                text  \\\n",
      "0  hi im isaac im going writing face mars natural...   \n",
      "1  perspective think face natural landform dont t...   \n",
      "2  think face natural landform life mars descover...   \n",
      "3  life mars would know reason think natural land...   \n",
      "4  people thought face formed alieans thought lif...   \n",
      "\n",
      "                                              tokens  \n",
      "0  [hi, im, isaac, im, going, writing, face, mars...  \n",
      "1  [perspective, think, face, natural, landform, ...  \n",
      "2  [think, face, natural, landform, life, mars, d...  \n",
      "3  [life, mars, would, know, reason, think, natur...  \n",
      "4  [people, thought, face, formed, alieans, thoug...  \n",
      "\n",
      "Training samples: 29405\n",
      "Validation samples: 7352\n"
     ]
    }
   ],
   "source": [
    "# Import necessary libraries\n",
    "import pandas as pd\n",
    "import numpy as np\n",
    "import re\n",
    "import nltk\n",
    "from nltk.corpus import stopwords\n",
    "from nltk.tokenize import word_tokenize\n",
    "from string import punctuation\n",
    "from sklearn.preprocessing import LabelEncoder\n",
    "from sklearn.model_selection import train_test_split\n",
    "from sklearn.metrics import confusion_matrix, accuracy_score, classification_report, f1_score\n",
    "from collections import Counter\n",
    "import seaborn as sns\n",
    "import matplotlib.pyplot as plt\n",
    "import torch\n",
    "import torch.nn as nn\n",
    "import torch.optim as optim\n",
    "from torch.utils.data import Dataset, DataLoader\n",
    "from sklearn.utils.class_weight import compute_class_weight\n",
    "import joblib\n",
    "\n",
    "# Suppress warnings\n",
    "import warnings\n",
    "warnings.filterwarnings('ignore')\n",
    "\n",
    "# Set random seed for reproducibility\n",
    "torch.manual_seed(42)\n",
    "np.random.seed(42)\n",
    "\n",
    "# Download NLTK resources\n",
    "nltk.download('punkt')\n",
    "nltk.download('stopwords')\n",
    "\n",
    "# Load the dataset\n",
    "train_df = pd.read_csv('data/train_preprocessed.csv')\n",
    "\n",
    "# Display the first few rows\n",
    "print(\"First 5 rows of the dataset:\")\n",
    "print(train_df.head())\n",
    "\n",
    "# Check for null values\n",
    "print(\"\\nNull values before dropping:\")\n",
    "print(train_df.isnull().sum())\n",
    "\n",
    "# Drop rows with null values\n",
    "train_df = train_df.dropna()\n",
    "\n",
    "print(\"\\nNull values after dropping:\")\n",
    "print(train_df.isnull().sum())\n",
    "\n",
    "# Define a custom tokenizer\n",
    "def custom_tokenizer(text):\n",
    "    # Lowercase the text\n",
    "    text = text.lower()\n",
    "    # Remove punctuation\n",
    "    text = text.translate(str.maketrans('', '', punctuation))\n",
    "    # Tokenize the text\n",
    "    tokens = word_tokenize(text)\n",
    "    # Remove stopwords\n",
    "    stop_words = set(stopwords.words('english'))\n",
    "    tokens = [word for word in tokens if word not in stop_words]\n",
    "    return tokens\n",
    "\n",
    "# Apply the tokenizer to the text data\n",
    "train_df['tokens'] = train_df['text'].apply(custom_tokenizer)\n",
    "\n",
    "# Display tokenized text\n",
    "print(\"\\nTokenized text samples:\")\n",
    "print(train_df[['text', 'tokens']].head())\n",
    "\n",
    "# Encode the labels\n",
    "le = LabelEncoder()\n",
    "y = le.fit_transform(train_df['discourse_effectiveness'])\n",
    "\n",
    "# Split the data into training and validation sets **before** applying any resampling\n",
    "X_train, X_val, y_train, y_val = train_test_split(\n",
    "    train_df['tokens'], y, test_size=0.2, random_state=42, stratify=y\n",
    ")\n",
    "\n",
    "print(f'\\nTraining samples: {len(X_train)}')\n",
    "print(f'Validation samples: {len(X_val)}')"
   ]
  },
  {
   "cell_type": "markdown",
   "metadata": {},
   "source": [
    "## 2. Building Vocabulary and Encoding Sequences"
   ]
  },
  {
   "cell_type": "code",
   "execution_count": 5,
   "metadata": {},
   "outputs": [
    {
     "name": "stdout",
     "output_type": "stream",
     "text": [
      "Vocabulary size: 11944\n",
      "Maximum sequence length: 371\n",
      "Padded training data shape: (29405, 100)\n",
      "Padded validation data shape: (7352, 100)\n"
     ]
    }
   ],
   "source": [
    "from collections import defaultdict\n",
    "\n",
    "# Build vocabulary based on training data\n",
    "def build_vocab(tokenized_texts, min_freq=2):\n",
    "    freq = defaultdict(int)\n",
    "    for tokens in tokenized_texts:\n",
    "        for token in tokens:\n",
    "            freq[token] += 1\n",
    "    vocab = {'<PAD>':0, '<UNK>':1}\n",
    "    for token, count in freq.items():\n",
    "        if count >= min_freq:\n",
    "            vocab[token] = len(vocab)\n",
    "    return vocab\n",
    "\n",
    "vocab = build_vocab(X_train, min_freq=2)\n",
    "print(f'Vocabulary size: {len(vocab)}')\n",
    "\n",
    "# Function to encode tokens to indices\n",
    "def encode_tokens(tokenized_texts, vocab):\n",
    "    return [\n",
    "        [vocab.get(token, vocab['<UNK>']) for token in tokens]\n",
    "        for tokens in tokenized_texts\n",
    "    ]\n",
    "\n",
    "# Encode training and validation data\n",
    "X_train_encoded = encode_tokens(X_train, vocab)\n",
    "X_val_encoded = encode_tokens(X_val, vocab)\n",
    "\n",
    "# Determine maximum sequence length\n",
    "max_len = max([len(seq) for seq in X_train_encoded])\n",
    "print(f'Maximum sequence length: {max_len}')\n",
    "\n",
    "# To prevent extremely long sequences, set a maximum length (e.g., 100)\n",
    "max_len = 100\n",
    "\n",
    "# Function to pad sequences\n",
    "def pad_sequences(sequences, max_len):\n",
    "    padded = []\n",
    "    for seq in sequences:\n",
    "        if len(seq) < max_len:\n",
    "            padded.append(seq + [vocab['<PAD>']] * (max_len - len(seq)))\n",
    "        else:\n",
    "            padded.append(seq[:max_len])\n",
    "    return np.array(padded)\n",
    "\n",
    "X_train_padded = pad_sequences(X_train_encoded, max_len)\n",
    "X_val_padded = pad_sequences(X_val_encoded, max_len)\n",
    "\n",
    "print(f'Padded training data shape: {X_train_padded.shape}')\n",
    "print(f'Padded validation data shape: {X_val_padded.shape}')\n"
   ]
  },
  {
   "cell_type": "markdown",
   "metadata": {},
   "source": [
    "## 3. Handling Class Imbalance"
   ]
  },
  {
   "cell_type": "code",
   "execution_count": 6,
   "metadata": {},
   "outputs": [
    {
     "data": {
      "image/png": "[encoded data removed]",
      "text/plain": [
       "<Figure size 600x400 with 1 Axes>"
      ]
     },
     "metadata": {},
     "output_type": "display_data"
    },
    {
     "name": "stdout",
     "output_type": "stream",
     "text": [
      "\n",
      "Class weights: tensor([0.5842, 1.3137, 1.8973])\n"
     ]
    },
    {
     "data": {
      "text/plain": [
       "['class_weights.joblib']"
      ]
     },
     "execution_count": 6,
     "metadata": {},
     "output_type": "execute_result"
    }
   ],
   "source": [
    "# %%\n",
    "# Visualize class distribution before resampling\n",
    "plt.figure(figsize=(6,4))\n",
    "sns.countplot(x=pd.Series(y_train).map(lambda x: le.inverse_transform([x])[0]))\n",
    "plt.title('Training Set Class Distribution Before Resampling')\n",
    "plt.show()\n",
    "\n",
    "# Calculate class weights\n",
    "class_weights = compute_class_weight(class_weight='balanced',\n",
    "                                     classes=np.unique(y_train),\n",
    "                                     y=y_train)\n",
    "\n",
    "class_weights = torch.tensor(class_weights, dtype=torch.float)\n",
    "print(f'\\nClass weights: {class_weights}')\n",
    "\n",
    "# Save class weights for future use\n",
    "joblib.dump(class_weights.numpy(), 'class_weights.joblib')\n"
   ]
  },
  {
   "cell_type": "markdown",
   "metadata": {},
   "source": [
    "## 4. Creating PyTorch Dataset and DataLoader"
   ]
  },
  {
   "cell_type": "code",
   "execution_count": 7,
   "metadata": {},
   "outputs": [
    {
     "name": "stdout",
     "output_type": "stream",
     "text": [
      "\n",
      "Number of batches in training loader: 230\n",
      "Number of batches in validation loader: 58\n"
     ]
    }
   ],
   "source": [
    "class TextDataset(Dataset):\n",
    "    def __init__(self, X, y):\n",
    "        self.X = torch.tensor(X, dtype=torch.long)\n",
    "        self.y = torch.tensor(y, dtype=torch.long)\n",
    "\n",
    "    def __len__(self):\n",
    "        return self.X.size(0)\n",
    "\n",
    "    def __getitem__(self, idx):\n",
    "        return self.X[idx], self.y[idx]\n",
    "\n",
    "# Create Dataset objects\n",
    "train_dataset = TextDataset(X_train_padded, y_train)\n",
    "val_dataset = TextDataset(X_val_padded, y_val)\n",
    "\n",
    "# Create DataLoader objects\n",
    "batch_size = 128\n",
    "\n",
    "train_loader = DataLoader(train_dataset, batch_size=batch_size, shuffle=True)\n",
    "val_loader = DataLoader(val_dataset, batch_size=batch_size, shuffle=False)\n",
    "\n",
    "print(f'\\nNumber of batches in training loader: {len(train_loader)}')\n",
    "print(f'Number of batches in validation loader: {len(val_loader)}')\n"
   ]
  },
  {
   "cell_type": "code",
   "execution_count": 9,
   "metadata": {},
   "outputs": [],
   "source": [
    "device = torch.device('cuda' if torch.cuda.is_available() else 'cpu')"
   ]
  },
  {
   "cell_type": "markdown",
   "metadata": {},
   "source": [
    "## 5. Define the LSTM Model"
   ]
  },
  {
   "cell_type": "code",
   "execution_count": 10,
   "metadata": {},
   "outputs": [
    {
     "name": "stdout",
     "output_type": "stream",
     "text": [
      "LSTMClassifier(\n",
      "  (embedding): Embedding(11944, 100, padding_idx=0)\n",
      "  (lstm): LSTM(100, 128, num_layers=2, batch_first=True, dropout=0.5, bidirectional=True)\n",
      "  (dropout): Dropout(p=0.5, inplace=False)\n",
      "  (fc): Linear(in_features=256, out_features=3, bias=True)\n",
      ")\n"
     ]
    }
   ],
   "source": [
    "# %%\n",
    "class LSTMClassifier(nn.Module):\n",
    "    def __init__(self, vocab_size, embed_dim, hidden_dim, output_dim, n_layers, dropout, pad_idx):\n",
    "        super(LSTMClassifier, self).__init__()\n",
    "        self.embedding = nn.Embedding(vocab_size, embed_dim, padding_idx=pad_idx)\n",
    "        self.lstm = nn.LSTM(embed_dim, hidden_dim, num_layers=n_layers,\n",
    "                            bidirectional=True, dropout=dropout, batch_first=True)\n",
    "        self.dropout = nn.Dropout(dropout)\n",
    "        self.fc = nn.Linear(hidden_dim * 2, output_dim)\n",
    "\n",
    "    def forward(self, x):\n",
    "        embedded = self.embedding(x)  # [batch_size, seq_len, embed_dim]\n",
    "        lstm_out, (hidden, cell) = self.lstm(embedded)  # lstm_out: [batch_size, seq_len, hidden_dim*2]\n",
    "        # Concatenate the final forward and backward hidden states\n",
    "        hidden = torch.cat((hidden[-2,:,:], hidden[-1,:,:]), dim=1)  # [batch_size, hidden_dim*2]\n",
    "        out = self.dropout(hidden)\n",
    "        out = self.fc(out)\n",
    "        return out\n"
   ]
  },
  {
   "cell_type": "markdown",
   "metadata": {},
   "source": [
    "## 6. Initialize the Model, Loss Function, and Optimizer"
   ]
  },
  {
   "cell_type": "code",
   "execution_count": null,
   "metadata": {},
   "outputs": [],
   "source": [
    "# Define model parameters\n",
    "vocab_size = len(vocab)\n",
    "embed_dim = 100\n",
    "hidden_dim = 128\n",
    "output_dim = len(le.classes_)\n",
    "n_layers = 2\n",
    "dropout = 0.5\n",
    "pad_idx = vocab['<PAD>']\n",
    "\n",
    "model = LSTMClassifier(vocab_size, embed_dim, hidden_dim, output_dim, n_layers, dropout, pad_idx)\n",
    "model = model.to(device)\n",
    "\n",
    "print(model)\n",
    "\n",
    "# Define loss function with class weights\n",
    "criterion = nn.CrossEntropyLoss(weight=class_weights.to(device))\n",
    "\n",
    "# Define optimizer\n",
    "optimizer = optim.Adam(model.parameters(), lr=0.001)\n",
    "\n",
    "# Define Learning Rate Scheduler\n",
    "scheduler = optim.lr_scheduler.ReduceLROnPlateau(optimizer, mode='min',\n",
    "                                                 factor=0.5, patience=3,\n",
    "                                                 verbose=True)"
   ]
  },
  {
   "cell_type": "markdown",
   "metadata": {},
   "source": [
    "## 7. Training the LSTM Model"
   ]
  },
  {
   "cell_type": "code",
   "execution_count": 11,
   "metadata": {},
   "outputs": [
    {
     "name": "stdout",
     "output_type": "stream",
     "text": [
      "Epoch 1/20\n",
      "Train Loss: 1.0060 | Train Acc: 0.4072\n",
      "Val Loss: 0.9672 | Val Acc: 0.3998\n",
      "Epoch 2/20\n",
      "Train Loss: 0.9248 | Train Acc: 0.4972\n",
      "Val Loss: 0.9198 | Val Acc: 0.4971\n",
      "Epoch 3/20\n",
      "Train Loss: 0.8677 | Train Acc: 0.5281\n",
      "Val Loss: 0.8968 | Val Acc: 0.5254\n",
      "Epoch 4/20\n",
      "Train Loss: 0.8191 | Train Acc: 0.5544\n",
      "Val Loss: 0.8898 | Val Acc: 0.5381\n",
      "Epoch 5/20\n",
      "Train Loss: 0.7745 | Train Acc: 0.5824\n",
      "Val Loss: 0.8877 | Val Acc: 0.4969\n",
      "Epoch 6/20\n",
      "Train Loss: 0.7304 | Train Acc: 0.5993\n",
      "Val Loss: 0.9149 | Val Acc: 0.5328\n",
      "Epoch 7/20\n",
      "Train Loss: 0.6958 | Train Acc: 0.6300\n",
      "Val Loss: 0.9644 | Val Acc: 0.5280\n",
      "Epoch 8/20\n",
      "Train Loss: 0.6461 | Train Acc: 0.6575\n",
      "Val Loss: 0.9831 | Val Acc: 0.5422\n",
      "Epoch 9/20\n",
      "Train Loss: 0.6027 | Train Acc: 0.6857\n",
      "Val Loss: 1.0231 | Val Acc: 0.5237\n",
      "Epoch 10/20\n",
      "Train Loss: 0.5227 | Train Acc: 0.7363\n",
      "Val Loss: 1.1818 | Val Acc: 0.5433\n",
      "Early stopping triggered!\n"
     ]
    }
   ],
   "source": [
    "# Define training parameters\n",
    "epochs = 20\n",
    "patience = 5\n",
    "best_val_loss = np.inf\n",
    "patience_counter = 0\n",
    "\n",
    "train_losses = []\n",
    "val_losses = []\n",
    "train_accuracies = []\n",
    "val_accuracies = []\n",
    "\n",
    "for epoch in range(epochs):\n",
    "    model.train()\n",
    "    running_loss = 0.0\n",
    "    correct = 0\n",
    "    total = 0\n",
    "\n",
    "    for inputs, labels in train_loader:\n",
    "        inputs, labels = inputs.to(device), labels.to(device)\n",
    "\n",
    "        # Zero the parameter gradients\n",
    "        optimizer.zero_grad()\n",
    "\n",
    "        # Forward pass\n",
    "        outputs = model(inputs)\n",
    "        loss = criterion(outputs, labels)\n",
    "\n",
    "        # Backward pass and optimization\n",
    "        loss.backward()\n",
    "        optimizer.step()\n",
    "\n",
    "        # Statistics\n",
    "        running_loss += loss.item() * inputs.size(0)\n",
    "        _, predicted = torch.max(outputs, 1)\n",
    "        correct += (predicted == labels).sum().item()\n",
    "        total += labels.size(0)\n",
    "\n",
    "    epoch_loss = running_loss / total\n",
    "    epoch_acc = correct / total\n",
    "    train_losses.append(epoch_loss)\n",
    "    train_accuracies.append(epoch_acc)\n",
    "\n",
    "    # Validation phase\n",
    "    model.eval()\n",
    "    val_running_loss = 0.0\n",
    "    val_correct = 0\n",
    "    val_total = 0\n",
    "\n",
    "    with torch.no_grad():\n",
    "        for inputs, labels in val_loader:\n",
    "            inputs, labels = inputs.to(device), labels.to(device)\n",
    "            outputs = model(inputs)\n",
    "            loss = criterion(outputs, labels)\n",
    "\n",
    "            val_running_loss += loss.item() * inputs.size(0)\n",
    "            _, predicted = torch.max(outputs, 1)\n",
    "            val_correct += (predicted == labels).sum().item()\n",
    "            val_total += labels.size(0)\n",
    "\n",
    "    val_epoch_loss = val_running_loss / val_total\n",
    "    val_epoch_acc = val_correct / val_total\n",
    "    val_losses.append(val_epoch_loss)\n",
    "    val_accuracies.append(val_epoch_acc)\n",
    "\n",
    "    print(f'Epoch {epoch+1}/{epochs}')\n",
    "    print(f'Train Loss: {epoch_loss:.4f} | Train Acc: {epoch_acc:.4f}')\n",
    "    print(f'Val Loss: {val_epoch_loss:.4f} | Val Acc: {val_epoch_acc:.4f}')\n",
    "\n",
    "    # Step the scheduler\n",
    "    scheduler.step(val_epoch_loss)\n",
    "\n",
    "    # Check for early stopping\n",
    "    if val_epoch_loss < best_val_loss:\n",
    "        best_val_loss = val_epoch_loss\n",
    "        patience_counter = 0\n",
    "        # Save the best model\n",
    "        torch.save(model.state_dict(), 'best_lstm_model.pth')\n",
    "    else:\n",
    "        patience_counter += 1\n",
    "        if patience_counter >= patience:\n",
    "            print('Early stopping triggered!')\n",
    "            break\n"
   ]
  },
  {
   "cell_type": "markdown",
   "metadata": {},
   "source": [
    "## 8. Load the Best Model"
   ]
  },
  {
   "cell_type": "code",
   "execution_count": 12,
   "metadata": {},
   "outputs": [
    {
     "data": {
      "text/plain": [
       "<All keys matched successfully>"
      ]
     },
     "execution_count": 12,
     "metadata": {},
     "output_type": "execute_result"
    }
   ],
   "source": [
    "# Load the best model weights\n",
    "model.load_state_dict(torch.load('best_lstm_model.pth'))"
   ]
  },
  {
   "cell_type": "markdown",
   "metadata": {},
   "source": [
    "## 9. Evaluation"
   ]
  },
  {
   "cell_type": "code",
   "execution_count": 13,
   "metadata": {},
   "outputs": [
    {
     "name": "stdout",
     "output_type": "stream",
     "text": [
      "\n",
      "Validation Accuracy: 0.4969\n",
      "Validation Weighted F1-Score: 0.4963\n",
      "\n",
      "Classification Report:\n",
      "              precision    recall  f1-score   support\n",
      "\n",
      "    Adequate       0.69      0.36      0.48      4195\n",
      "   Effective       0.51      0.72      0.60      1865\n",
      " Ineffective       0.31      0.61      0.41      1292\n",
      "\n",
      "    accuracy                           0.50      7352\n",
      "   macro avg       0.51      0.56      0.50      7352\n",
      "weighted avg       0.58      0.50      0.50      7352\n",
      "\n"
     ]
    }
   ],
   "source": [
    "def evaluate_model(model, loader):\n",
    "    model.eval()\n",
    "    all_preds = []\n",
    "    all_labels = []\n",
    "\n",
    "    with torch.no_grad():\n",
    "        for inputs, labels in loader:\n",
    "            inputs = inputs.to(device)\n",
    "            outputs = model(inputs)\n",
    "            _, preds = torch.max(outputs, 1)\n",
    "            all_preds.extend(preds.cpu().numpy())\n",
    "            all_labels.extend(labels.numpy())\n",
    "\n",
    "    return np.array(all_preds), np.array(all_labels)\n",
    "\n",
    "# Get predictions on the validation set\n",
    "y_pred, y_true = evaluate_model(model, val_loader)\n",
    "\n",
    "# Calculate metrics\n",
    "accuracy = accuracy_score(y_true, y_pred)\n",
    "f1 = f1_score(y_true, y_pred, average='weighted')\n",
    "print(f'\\nValidation Accuracy: {accuracy:.4f}')\n",
    "print(f'Validation Weighted F1-Score: {f1:.4f}')\n",
    "\n",
    "# Print classification report\n",
    "print('\\nClassification Report:')\n",
    "print(classification_report(y_true, y_pred, target_names=le.classes_))"
   ]
  },
  {
   "cell_type": "markdown",
   "metadata": {},
   "source": [
    "## 10. Confusion Matrix"
   ]
  },
  {
   "cell_type": "code",
   "execution_count": null,
   "metadata": {},
   "outputs": [],
   "source": [
    "def plot_confusion(y_true, y_pred, title):\n",
    "    cm = confusion_matrix(y_true, y_pred)\n",
    "    plt.figure(figsize=(10,8))\n",
    "    sns.heatmap(cm, annot=True, fmt='d', cmap='Blues',\n",
    "                xticklabels=le.classes_, yticklabels=le.classes_)\n",
    "    plt.ylabel('Actual')\n",
    "    plt.xlabel('Predicted')\n",
    "    plt.title(title)\n",
    "    plt.show()\n",
    "\n",
    "# Plot the confusion matrix\n",
    "plot_confusion(y_true, y_pred, 'Confusion Matrix - Optimized LSTM Model')"
   ]
  },
  {
   "cell_type": "markdown",
   "metadata": {},
   "source": [
    "## 11. Training Curves"
   ]
  },
  {
   "cell_type": "code",
   "execution_count": null,
   "metadata": {},
   "outputs": [],
   "source": [
    "# Plot training and validation loss\n",
    "plt.figure(figsize=(12,5))\n",
    "plt.subplot(1,2,1)\n",
    "plt.plot(train_losses, label='Train Loss')\n",
    "plt.plot(val_losses, label='Val Loss')\n",
    "plt.xlabel('Epoch')\n",
    "plt.ylabel('Loss')\n",
    "plt.title('Loss Curves')\n",
    "plt.legend()\n",
    "\n",
    "# Plot training and validation accuracy\n",
    "plt.subplot(1,2,2)\n",
    "plt.plot(train_accuracies, label='Train Acc')\n",
    "plt.plot(val_accuracies, label='Val Acc')\n",
    "plt.xlabel('Epoch')\n",
    "plt.ylabel('Accuracy')\n",
    "plt.title('Accuracy Curves')\n",
    "plt.legend()\n",
    "\n",
    "plt.show()"
   ]
  }
 ],
 "metadata": {
  "kernelspec": {
   "display_name": "Python 3",
   "language": "python",
   "name": "python3"
  },
  "language_info": {
   "codemirror_mode": {
    "name": "ipython",
    "version": 3
   },
   "file_extension": ".py",
   "mimetype": "text/x-python",
   "name": "python",
   "nbconvert_exporter": "python",
   "pygments_lexer": "ipython3",
   "version": "3.12.4"
  }
 },
 "nbformat": 4,
 "nbformat_minor": 2
}
